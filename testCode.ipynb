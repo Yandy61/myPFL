{
 "cells": [
  {
   "cell_type": "markdown",
   "id": "21a1cfd2",
   "metadata": {},
   "source": [
    "# Import"
   ]
  },
  {
   "cell_type": "code",
   "execution_count": 2,
   "id": "73355c2e",
   "metadata": {
    "ExecuteTime": {
     "end_time": "2021-12-18T06:09:54.011425Z",
     "start_time": "2021-12-18T06:09:53.378940Z"
    }
   },
   "outputs": [],
   "source": [
    "import pickle\n",
    "import matplotlib.pyplot as plt\n",
    "import numpy as np\n",
    "import torch\n",
    "import torch.nn as nn\n",
    "from scipy.cluster.hierarchy import linkage, fcluster\n",
    "from py_func.clustering import get_matrix_similarity_from_grads\n",
    "from copy import deepcopy\n",
    "import py_func.personal_func as pf"
   ]
  },
  {
   "cell_type": "markdown",
   "id": "59a6a611",
   "metadata": {
    "heading_collapsed": true
   },
   "source": [
    "# 问题\n",
    "---\n",
    "## 调整学习率和衰减系数\n",
    "## 模型融合权重及方案\n",
    "## 更换AlexNet\n",
    "## × Adam优化器不适用\n",
    "## × 分段衰减不适用"
   ]
  },
  {
   "cell_type": "code",
   "execution_count": null,
   "id": "49b98237",
   "metadata": {
    "hidden": true
   },
   "outputs": [],
   "source": [
    "# todo\n",
    "# model 一开始就放入cuda，解决带来的bug\n",
    "# 优化器改为adam\n",
    "# lr优化器使用torch.optim.lr_scheduler.CosineAnnealingLR\n",
    "\n",
    "optimizer = torch.optim.Adam(model.parameters(),lr=0.001)\n",
    "scheduler = torch.optim.lr_scheduler.CosineAnnealingLR(optimizer, n_SGD, eta_min=0, last_epoch=-1)\n",
    "\n",
    "optimizer.step()\n",
    "print(\"第%d个epoch的学习率：%f\" % (epoch,optimizer.param_groups[0]['lr']))\n",
    "scheduler.step()"
   ]
  },
  {
   "cell_type": "markdown",
   "id": "b3fcc6c2",
   "metadata": {},
   "source": [
    "# Plot"
   ]
  },
  {
   "cell_type": "code",
   "execution_count": 8,
   "id": "133a6a2f",
   "metadata": {
    "ExecuteTime": {
     "end_time": "2021-12-18T06:10:51.274777Z",
     "start_time": "2021-12-18T06:10:51.157011Z"
    },
    "scrolled": true
   },
   "outputs": [
    {
     "data": {
      "image/png": "[encoded data removed]",
      "text/plain": [
       "<Figure size 432x288 with 1 Axes>"
      ]
     },
     "metadata": {
      "needs_background": "light"
     },
     "output_type": "display_data"
    },
    {
     "name": "stdout",
     "output_type": "stream",
     "text": [
      "341\n"
     ]
    }
   ],
   "source": [
    "path = './saved_exp_info/'\n",
    "name = 'server_acc'\n",
    "name1 = 'server_loss'\n",
    "\n",
    "# filename = '/CIFAR10_nbal_0.001_clustered_2_cosine_i1500_N50_lr0.05_B50_d1.0_p1.0_m5_0.pkl'\n",
    "# filename = '/g_CIFAR10_nbal_0.001_i1500_n50_pre200_lr0.05_B50_d1.0_m5_s0.pkl'\n",
    "# filename = '/g_CIFAR10_nbal_0.001_i1500_n50_pre200_lr0.1_B50_d0.99_m5_s0pkl'\n",
    "# filename = '/g_CIFAR10_nbal_0.001_i1500_n50_pre100_lr0.01_B50_d0.996_m5_s0.pkl'\n",
    "# filename = '/g_CIFAR10_nbal_0.001_i1500_n50_pre5_lr0.001_B50_d0.9_m5_s0.pkl'\n",
    "\n",
    "# filename = '/p_n20_lr0.04_d0.30000000000000004_pre400.pkl'\n",
    "\n",
    "# filename = '/p_n40_lr0.005_d1.0_pre400.pkl'\n",
    "\n",
    "filename = '/p_n20_lr0.06_d0.993_pre400.pkl'\n",
    "\n",
    "\n",
    "#python mPFL.py CIFAR10_nbal_0.001 clustered_2 cosine 0 20 0.02 0.2 1 True 400 10\n",
    "\n",
    "inf = np.array(pickle.load(open(path + name1 + filename, 'rb')), dtype=object)\n",
    "plt.plot(inf[:])\n",
    "plt.show()\n",
    "\n",
    "print(len(inf))\n",
    "# picname = 'lr0.05_d1.0_p_'\n",
    "# plt.savefig(f\"./pic/{picname}{name}.jpg\")\n",
    "\n",
    "# plt.cla()\n",
    "\n",
    "# inf = np.array(pickle.load(open(path + name1 + filename, 'rb')), dtype=object)\n",
    "# plt.plot(inf[:])\n",
    "# plt.savefig(f\"./pic/{picname}{name1}.jpg\")"
   ]
  },
  {
   "cell_type": "markdown",
   "id": "294da2ed",
   "metadata": {},
   "source": [
    "# 实时曲线"
   ]
  },
  {
   "cell_type": "code",
   "execution_count": 3,
   "id": "13657dfe",
   "metadata": {
    "ExecuteTime": {
     "end_time": "2021-12-16T12:45:36.251033Z",
     "start_time": "2021-12-16T12:45:34.496305Z"
    }
   },
   "outputs": [
    {
     "data": {
      "image/png": "[encoded data removed]",
      "text/plain": [
       "<Figure size 432x288 with 1 Axes>"
      ]
     },
     "metadata": {
      "needs_background": "light"
     },
     "output_type": "display_data"
    }
   ],
   "source": [
    "import torch\n",
    "import matplotlib.pyplot as plt\n",
    "from IPython import display\n",
    "x_list = []\n",
    "y_list = []\n",
    "for i in range(10):\n",
    "    x_list.append(i)\n",
    "    y_list.append(i**2)\n",
    "    display.clear_output(wait=True)\n",
    "    plt.plot(x_list, y_list)\n",
    "    plt.xlabel('x')\n",
    "    plt.ylabel('y')\n",
    "    plt.show()\n",
    "    plt.pause(0.1)"
   ]
  },
  {
   "cell_type": "code",
   "execution_count": 4,
   "id": "28e671e3",
   "metadata": {
    "ExecuteTime": {
     "end_time": "2021-12-16T12:45:36.254396Z",
     "start_time": "2021-12-16T12:45:36.252500Z"
    },
    "scrolled": true
   },
   "outputs": [],
   "source": [
    "# inf = np.array(pickle.load(open(path + name + filename, 'rb')), dtype=object)\n",
    "# while 990-len(inf)>0:\n",
    "#     inf = np.array(pickle.load(open(path + name + filename, 'rb')), dtype=object)\n",
    "#     display.clear_output(wait=True)\n",
    "#     plt.plot(inf[:])\n",
    "#     plt.show()\n",
    "#     print(len(inf))\n",
    "#     plt.pause(11)"
   ]
  },
  {
   "cell_type": "markdown",
   "id": "9cbbbc60",
   "metadata": {
    "heading_collapsed": true
   },
   "source": [
    "# model"
   ]
  },
  {
   "cell_type": "code",
   "execution_count": 20,
   "id": "29ba9f77",
   "metadata": {},
   "outputs": [
    {
     "name": "stdout",
     "output_type": "stream",
     "text": [
      "Files already downloaded and verified\n",
      "[]\n"
     ]
    }
   ],
   "source": [
    "import torch\n",
    "from torch.utils.data import Dataset, DataLoader\n",
    "import pickle\n",
    "import numpy as np\n",
    "\n",
    "import torchvision.datasets as datasets\n",
    "import torchvision.transforms as transforms\n",
    "\n",
    "import os\n",
    "\n",
    "batch_size = 50\n",
    "shuffle = True\n",
    "\n",
    "n_clients = 100\n",
    "samples_train, samples_test = 500, 100\n",
    "\n",
    "CIFAR10_train = datasets.CIFAR100(\n",
    "    root=\"./data\",\n",
    "    train=True,\n",
    "    download=True,\n",
    "    transform=transforms.ToTensor(),\n",
    ")\n",
    "print(np.where(np.array(CIFAR10_train.targets) == -1)[0])"
   ]
  },
  {
   "cell_type": "code",
   "execution_count": 108,
   "id": "6e6b6b30",
   "metadata": {},
   "outputs": [],
   "source": [
    "dataset = pickle.load(open(\"./data/CIFAR10_nbal_0.001_train_100.pkl\", \"rb\"))"
   ]
  },
  {
   "cell_type": "code",
   "execution_count": 112,
   "id": "94f94b36",
   "metadata": {},
   "outputs": [
    {
     "name": "stdout",
     "output_type": "stream",
     "text": [
      "32\n"
     ]
    }
   ],
   "source": [
    "print(len(dataset[0][0][0]))"
   ]
  },
  {
   "cell_type": "code",
   "execution_count": 117,
   "id": "5537f4f4",
   "metadata": {
    "scrolled": true
   },
   "outputs": [
    {
     "name": "stdout",
     "output_type": "stream",
     "text": [
      "Files already downloaded and verified\n"
     ]
    }
   ],
   "source": [
    "n_classes = 100         # 类别?\n",
    "n_clients = 100         # client个数\n",
    "balanced = True         # 数据分布是否均衡\n",
    "alpha = 0.0001\n",
    "folder = \"./data/\"\n",
    "\n",
    "file_name_train = f\"CIFAR100_train_100.pkl\"\n",
    "path_train = folder + file_name_train\n",
    "\n",
    "matrix = dirichlet([alpha] * n_classes, size=n_clients)\n",
    "\n",
    "CIFAR100_train = datasets.CIFAR100(\n",
    "    root=\"./data\",\n",
    "    train=True,\n",
    "    download=True,\n",
    "    transform=transforms.ToTensor(),\n",
    ")\n",
    "dataset = CIFAR100_train"
   ]
  },
  {
   "cell_type": "code",
   "execution_count": 116,
   "id": "2e020f8e",
   "metadata": {},
   "outputs": [
    {
     "name": "stdout",
     "output_type": "stream",
     "text": [
      "[500, 500, 500, 500, 500, 500, 500, 500, 500, 500, 500, 500, 500, 500, 500, 500, 500, 500, 500, 500, 500, 500, 500, 500, 500, 500, 500, 500, 500, 500, 500, 500, 500, 500, 500, 500, 500, 500, 500, 500, 500, 500, 500, 500, 500, 500, 500, 500, 500, 500, 500, 500, 500, 500, 500, 500, 500, 500, 500, 500, 500, 500, 500, 500, 500, 500, 500, 500, 500, 500, 500, 500, 500, 500, 500, 500, 500, 500, 500, 500, 500, 500, 500, 500, 500, 500, 500, 500, 500, 500, 500, 500, 500, 500, 500, 500, 500, 500, 500, 500]\n"
     ]
    }
   ],
   "source": [
    "\n",
    "\n",
    "print(n_samples)"
   ]
  },
  {
   "cell_type": "code",
   "execution_count": 118,
   "id": "97fa9b0e",
   "metadata": {},
   "outputs": [],
   "source": []
  },
  {
   "cell_type": "code",
   "execution_count": 122,
   "id": "db9396b5",
   "metadata": {},
   "outputs": [],
   "source": [
    "list_clients_X = [[] for i in range(n_clients)]\n",
    "list_clients_y = [[] for i in range(n_clients)]\n",
    "n_samples = [500] * n_clients\n",
    "\n",
    "list_idx = []\n",
    "for k in range(n_classes):\n",
    "    idx_k = np.where(np.array(dataset.targets) == k)[0]\n",
    "    list_idx += [idx_k]             # 第一维：标签值 第二维：属于该标签的条目下标\n",
    "for idx_client, n_sample in enumerate(n_samples):\n",
    "\n",
    "    clients_idx_i = []  # client_i 分到的数据条目下标\n",
    "    client_samples = 0\n",
    "\n",
    "    for k in range(n_classes):\n",
    "\n",
    "        samples_digit = int(matrix[idx_client, k] * n_sample)\n",
    "\n",
    "        clients_idx_i = np.concatenate(\n",
    "            (clients_idx_i, np.random.choice(list_idx[k], samples_digit))   # 将标签k的数据随机选取分给client_i\n",
    "        )\n",
    "\n",
    "    clients_idx_i = clients_idx_i.astype(int)\n",
    "\n",
    "    for idx_sample in clients_idx_i:\n",
    "\n",
    "        list_clients_X[idx_client] += [dataset.data[idx_sample]]\n",
    "        list_clients_y[idx_client] += [dataset.targets[idx_sample]]\n",
    "\n",
    "    list_clients_X[idx_client] = np.array(list_clients_X[idx_client])\n",
    "\n",
    "folder = \"./data/\"\n",
    "with open(folder + file_name, \"wb\") as output:\n",
    "    pickle.dump((list_clients_X, list_clients_y), output)\n",
    "\n",
    "# list_dls_train = clients_set_CIFAR(\n",
    "#     path_train, n_clients, batch_size, True\n",
    "# )"
   ]
  },
  {
   "cell_type": "code",
   "execution_count": 19,
   "id": "8d0b53ca",
   "metadata": {},
   "outputs": [
    {
     "name": "stdout",
     "output_type": "stream",
     "text": [
      "(100, 10)\n"
     ]
    }
   ],
   "source": [
    "import numpy as np\n",
    "from numpy.random import dirichlet\n",
    "\n",
    "alpha = 0.001\n",
    "n_classes = 10\n",
    "\n",
    "matrix = np.concatenate((dirichlet([alpha*100] * n_classes, size=30),dirichlet([alpha] * n_classes, size=70)))\n",
    "\n",
    "print(matrix.shape)"
   ]
  },
  {
   "cell_type": "code",
   "execution_count": 10,
   "id": "7b47380c",
   "metadata": {},
   "outputs": [
    {
     "name": "stdout",
     "output_type": "stream",
     "text": [
      "创建目录!\n",
      "experiments_res/nb.pkl\n"
     ]
    }
   ],
   "source": [
    "import os\n",
    "import pickle\n",
    "\n",
    "def save_pkl(dictionnary, directory, file_name):\n",
    "    # 检查目录是否存在，如果不存在则创建目录\n",
    "    if not os.path.exists(directory):\n",
    "        print(\"创建目录!\")\n",
    "        os.makedirs(directory)\n",
    "    # 拼接文件路径\n",
    "    file_path = os.path.join(directory, f\"{file_name}.pkl\")\n",
    "    print(file_path)\n",
    "    # 使用 pickle.dump() 将字典对象存储到文件中\n",
    "#     with open(file_path, \"wb\") as f:\n",
    "#         pickle.dump(dictionnary, f)\n",
    "\n",
    "x = [10,20,30]\n",
    "save_pkl(x, \"experiments_res/\",  \"nb\")"
   ]
  },
  {
   "cell_type": "code",
   "execution_count": 26,
   "id": "b9ef058d",
   "metadata": {},
   "outputs": [
    {
     "name": "stdout",
     "output_type": "stream",
     "text": [
      "[7.26357962e-152 1.17917277e-089 0.00000000e+000 0.00000000e+000\n",
      " 3.17126585e-214 0.00000000e+000 6.49864620e-027 0.00000000e+000\n",
      " 1.00000000e+000 0.00000000e+000]\n",
      "[ 1  9 16]\n",
      "[0. 0. 0. 0. 0. 0. 0. 0. 0. 0. 0. 0. 0. 0. 0. 0. 0. 0. 0. 0. 0. 0.]\n",
      "0.0\n"
     ]
    }
   ],
   "source": [
    "y_train = np.array([1,5,6,8,4,6,4,1,8,5,8,4,1,4,8,4,5,6,2,3,9,1])\n",
    "N = len(y_train)\n",
    "weights = np.zeros(N)\n",
    "\n",
    "proportions = np.random.dirichlet(np.repeat(0.001, 10))\n",
    "print(proportions)\n",
    "\n",
    "k = 5\n",
    "\n",
    "idx_k = np.where(y_train == k)[0]\n",
    "print(idx_k)\n",
    "weights[idx_k] = proportions[k]\n",
    "print(weights)\n",
    "print(np.sum(weights))"
   ]
  },
  {
   "cell_type": "code",
   "execution_count": 92,
   "id": "c276b25a",
   "metadata": {
    "scrolled": false
   },
   "outputs": [
    {
     "name": "stdout",
     "output_type": "stream",
     "text": [
      "[7, 5, 7, 8, 4]\n"
     ]
    }
   ],
   "source": [
    "a = [3,5,3,2,6]\n",
    "b = [10,9,8,7,6,5,4,3,2,1]\n",
    "\n",
    "c = [b[x] for x in a]\n",
    "print(c)"
   ]
  }
 ],
 "metadata": {
  "kernelspec": {
   "display_name": "Python 3",
   "language": "python",
   "name": "python3"
  },
  "language_info": {
   "codemirror_mode": {
    "name": "ipython",
    "version": 3
   },
   "file_extension": ".py",
   "mimetype": "text/x-python",
   "name": "python",
   "nbconvert_exporter": "python",
   "pygments_lexer": "ipython3",
   "version": "3.6.13"
  },
  "toc": {
   "base_numbering": 1,
   "nav_menu": {},
   "number_sections": true,
   "sideBar": true,
   "skip_h1_title": false,
   "title_cell": "Table of Contents",
   "title_sidebar": "Contents",
   "toc_cell": false,
   "toc_position": {
    "height": "calc(100% - 180px)",
    "left": "10px",
    "top": "150px",
    "width": "409.6px"
   },
   "toc_section_display": true,
   "toc_window_display": false
  },
  "varInspector": {
   "cols": {
    "lenName": 16,
    "lenType": 16,
    "lenVar": 40
   },
   "kernels_config": {
    "python": {
     "delete_cmd_postfix": "",
     "delete_cmd_prefix": "del ",
     "library": "var_list.py",
     "varRefreshCmd": "print(var_dic_list())"
    },
    "r": {
     "delete_cmd_postfix": ") ",
     "delete_cmd_prefix": "rm(",
     "library": "var_list.r",
     "varRefreshCmd": "cat(var_dic_list()) "
    }
   },
   "oldHeight": 840.475,
   "position": {
    "height": "862.475px",
    "left": "1598px",
    "right": "20px",
    "top": "117px",
    "width": "426.05px"
   },
   "types_to_exclude": [
    "module",
    "function",
    "builtin_function_or_method",
    "instance",
    "_Feature"
   ],
   "varInspector_section_display": "block",
   "window_display": false
  }
 },
 "nbformat": 4,
 "nbformat_minor": 5
}
